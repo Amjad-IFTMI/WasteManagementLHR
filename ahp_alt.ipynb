{
 "cells": [
  {
   "cell_type": "code",
   "execution_count": 19,
   "metadata": {},
   "outputs": [],
   "source": [
    "#import relevant libraries\n",
    "import pandas as pd\n",
    "import numpy as np\n",
    "from scipy.stats.mstats import gmean"
   ]
  },
  {
   "cell_type": "code",
   "execution_count": 20,
   "metadata": {},
   "outputs": [],
   "source": [
    "#load the data\n",
    "comp = pd.read_csv('capex.csv')"
   ]
  },
  {
   "cell_type": "code",
   "execution_count": 21,
   "metadata": {},
   "outputs": [],
   "source": [
    "#compute sum of columns for normalization\n",
    "sum_comp = pd.DataFrame(np.zeros(shape=(1,comp.shape[1])))\n",
    "for i in range(sum_comp.shape[1]):\n",
    "    sum_comp.iloc[0,i] = sum(comp.iloc[:,i])"
   ]
  },
  {
   "cell_type": "code",
   "execution_count": 22,
   "metadata": {},
   "outputs": [],
   "source": [
    "#normalize the data using sum\n",
    "normalized = pd.DataFrame(np.zeros(shape=(comp.shape[0],comp.shape[1])))\n",
    "for j in range(normalized.shape[0]):\n",
    "    for i in range(normalized.shape[1]):\n",
    "        normalized.iloc[i,j] = comp.iloc[i,j]/sum_comp.iloc[0,j]"
   ]
  },
  {
   "cell_type": "code",
   "execution_count": 23,
   "metadata": {},
   "outputs": [],
   "source": [
    "#calculate criteria weights\n",
    "crit_w = pd.DataFrame(np.zeros(shape=(comp.shape[0],1)))\n",
    "for i in range(crit_w.shape[0]):\n",
    "    crit_w.iloc[i,0] = np.mean(normalized.iloc[i,:])"
   ]
  },
  {
   "cell_type": "code",
   "execution_count": 24,
   "metadata": {},
   "outputs": [],
   "source": [
    "crit_w.to_csv('capex_w.csv')"
   ]
  }
 ],
 "metadata": {
  "kernelspec": {
   "display_name": "Python 3",
   "language": "python",
   "name": "python3"
  },
  "language_info": {
   "codemirror_mode": {
    "name": "ipython",
    "version": 3
   },
   "file_extension": ".py",
   "mimetype": "text/x-python",
   "name": "python",
   "nbconvert_exporter": "python",
   "pygments_lexer": "ipython3",
   "version": "3.11.3"
  },
  "orig_nbformat": 4
 },
 "nbformat": 4,
 "nbformat_minor": 2
}
