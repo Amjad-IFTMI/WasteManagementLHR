{
 "cells": [
  {
   "cell_type": "code",
   "execution_count": 19,
   "metadata": {},
   "outputs": [],
   "source": [
    "# import relevant libraries\n",
    "import pandas as pd\n",
    "import numpy as np\n",
    "from scipy.stats.mstats import gmean"
   ]
  },
  {
   "cell_type": "code",
   "execution_count": 20,
   "metadata": {},
   "outputs": [],
   "source": [
    "## Load the files\n",
    "min_fuzzy_crit = pd.read_csv('min_fuzzy_crit.csv')\n",
    "mid_fuzzy_crit = pd.read_csv('mid_fuzzy_crit.csv')\n",
    "max_fuzzy_crit = pd.read_csv('max_fuzzy_crit.csv')"
   ]
  },
  {
   "cell_type": "code",
   "execution_count": 21,
   "metadata": {},
   "outputs": [],
   "source": [
    "#Calculate geometirc mean\n",
    "geomean = pd.DataFrame(np.zeros(shape=(min_fuzzy_crit.shape[0],3)), columns=('Min','Mid','Max'))\n",
    "for i in range(geomean.shape[0]):\n",
    "    geomean.iloc[i,0]=gmean(min_fuzzy_crit.iloc[i,:])\n",
    "    geomean.iloc[i,1]=gmean(mid_fuzzy_crit.iloc[i,:])\n",
    "    geomean.iloc[i,2]=gmean(max_fuzzy_crit.iloc[i,:])"
   ]
  },
  {
   "cell_type": "code",
   "execution_count": 22,
   "metadata": {},
   "outputs": [],
   "source": [
    "#caluclate the sum of geometirc mean adn inverse it\n",
    "w1 = 1/sum(geomean['Max'])\n",
    "w2 = 1/sum(geomean['Mid'])\n",
    "w3 = 1/sum(geomean['Min'])"
   ]
  },
  {
   "cell_type": "code",
   "execution_count": 23,
   "metadata": {},
   "outputs": [],
   "source": [
    "# Calculation fo fuzzy Weights\n",
    "fuzzy_weights = pd.DataFrame(np.zeros(shape=(7,3)), columns=('Min','Mid','Max'))\n",
    "for i in range(fuzzy_weights.shape[0]):\n",
    "    fuzzy_weights.iloc[i,0]=geomean.iloc[i,0]*w1\n",
    "    fuzzy_weights.iloc[i,1]=geomean.iloc[i,1]*w2\n",
    "    fuzzy_weights.iloc[i,2]=geomean.iloc[i,2]*w3"
   ]
  },
  {
   "cell_type": "code",
   "execution_count": 24,
   "metadata": {},
   "outputs": [],
   "source": [
    "## calcualtion of Mi\n",
    "Mi = pd.DataFrame(np.zeros(shape=(7,1)))\n",
    "for i in range(Mi.shape[0]):\n",
    "    Mi.iloc[i,0] = np.mean(fuzzy_weights.iloc[i,:])"
   ]
  },
  {
   "cell_type": "code",
   "execution_count": 25,
   "metadata": {},
   "outputs": [
    {
     "data": {
      "text/html": [
       "<div>\n",
       "<style scoped>\n",
       "    .dataframe tbody tr th:only-of-type {\n",
       "        vertical-align: middle;\n",
       "    }\n",
       "\n",
       "    .dataframe tbody tr th {\n",
       "        vertical-align: top;\n",
       "    }\n",
       "\n",
       "    .dataframe thead th {\n",
       "        text-align: right;\n",
       "    }\n",
       "</style>\n",
       "<table border=\"1\" class=\"dataframe\">\n",
       "  <thead>\n",
       "    <tr style=\"text-align: right;\">\n",
       "      <th></th>\n",
       "      <th>0</th>\n",
       "    </tr>\n",
       "  </thead>\n",
       "  <tbody>\n",
       "    <tr>\n",
       "      <th>0</th>\n",
       "      <td>0.054128</td>\n",
       "    </tr>\n",
       "    <tr>\n",
       "      <th>1</th>\n",
       "      <td>0.031106</td>\n",
       "    </tr>\n",
       "    <tr>\n",
       "      <th>2</th>\n",
       "      <td>0.161945</td>\n",
       "    </tr>\n",
       "    <tr>\n",
       "      <th>3</th>\n",
       "      <td>0.338815</td>\n",
       "    </tr>\n",
       "    <tr>\n",
       "      <th>4</th>\n",
       "      <td>0.216821</td>\n",
       "    </tr>\n",
       "    <tr>\n",
       "      <th>5</th>\n",
       "      <td>0.101558</td>\n",
       "    </tr>\n",
       "    <tr>\n",
       "      <th>6</th>\n",
       "      <td>0.095625</td>\n",
       "    </tr>\n",
       "  </tbody>\n",
       "</table>\n",
       "</div>"
      ],
      "text/plain": [
       "          0\n",
       "0  0.054128\n",
       "1  0.031106\n",
       "2  0.161945\n",
       "3  0.338815\n",
       "4  0.216821\n",
       "5  0.101558\n",
       "6  0.095625"
      ]
     },
     "execution_count": 25,
     "metadata": {},
     "output_type": "execute_result"
    }
   ],
   "source": [
    "#Normlization and final weights\n",
    "crit_weights = pd.DataFrame(np.zeros(shape=(7,1)))\n",
    "for i in range(crit_weights.shape[0]):\n",
    "    crit_weights.iloc[i,0] = Mi.iloc[i,0]/sum(Mi.iloc[:,0])\n",
    "crit_weights"
   ]
  },
  {
   "cell_type": "code",
   "execution_count": 26,
   "metadata": {},
   "outputs": [],
   "source": [
    "crit_weights.to_csv('Criteria Weights.csv')"
   ]
  }
 ],
 "metadata": {
  "kernelspec": {
   "display_name": "Python 3",
   "language": "python",
   "name": "python3"
  },
  "language_info": {
   "codemirror_mode": {
    "name": "ipython",
    "version": 3
   },
   "file_extension": ".py",
   "mimetype": "text/x-python",
   "name": "python",
   "nbconvert_exporter": "python",
   "pygments_lexer": "ipython3",
   "version": "3.11.3"
  },
  "orig_nbformat": 4
 },
 "nbformat": 4,
 "nbformat_minor": 2
}
